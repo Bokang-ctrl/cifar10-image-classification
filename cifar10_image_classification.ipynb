{
  "cells": [
    {
      "cell_type": "markdown",
      "metadata": {
        "id": "zJ31EqC9esCa"
      },
      "source": [
        "Create our class labels and import the necessary modules"
      ]
    },
    {
      "cell_type": "code",
      "execution_count": 1,
      "metadata": {
        "id": "E3j_tRcCeqil"
      },
      "outputs": [],
      "source": [
        "classes = ['airplane', 'automobile', 'bird', 'cat', 'deer', 'dog', 'frog', 'horse', 'ship', 'truck']"
      ]
    },
    {
      "cell_type": "code",
      "execution_count": 2,
      "metadata": {
        "id": "bgGcX-TRH6uE"
      },
      "outputs": [],
      "source": [
        "import numpy as np\n",
        "import pandas as pd\n",
        "import matplotlib.pyplot as plt\n",
        "import seaborn as sns\n",
        "import tensorflow as tf\n",
        "from tensorflow import keras\n",
        "from sklearn.model_selection import train_test_split\n",
        "from sklearn.metrics import classification_report"
      ]
    },
    {
      "cell_type": "code",
      "execution_count": 3,
      "metadata": {
        "colab": {
          "base_uri": "https://localhost:8080/"
        },
        "id": "vG-8oGn6Jwi7",
        "outputId": "b2d833e0-9f2a-4d3d-b86e-ed0ac3b0473c"
      },
      "outputs": [
        {
          "output_type": "stream",
          "name": "stdout",
          "text": [
            "Downloading data from https://www.cs.toronto.edu/~kriz/cifar-10-python.tar.gz\n",
            "170498071/170498071 [==============================] - 2s 0us/step\n"
          ]
        }
      ],
      "source": [
        "# load the data properly into train and test sets\n",
        "(X_train, y_train), (X_test, y_test) = keras.datasets.cifar10.load_data()"
      ]
    },
    {
      "cell_type": "code",
      "execution_count": 4,
      "metadata": {
        "colab": {
          "base_uri": "https://localhost:8080/"
        },
        "id": "fRvU8ortKSNf",
        "outputId": "bf24b382-9d75-449c-b6ab-29031b1ad18f"
      },
      "outputs": [
        {
          "output_type": "stream",
          "name": "stdout",
          "text": [
            "X train shape  (50000, 32, 32, 3)\n",
            "y train shape is  (50000, 1)\n",
            "X test shape is  (10000, 32, 32, 3)\n",
            "y test shape is  (10000, 1)\n"
          ]
        }
      ],
      "source": [
        "print(f\"X train shape  {X_train.shape}\\ny train shape is  {y_train.shape}\\nX test shape is  {X_test.shape}\\ny test shape is  {y_test.shape}\")"
      ]
    },
    {
      "cell_type": "code",
      "execution_count": 5,
      "metadata": {
        "colab": {
          "base_uri": "https://localhost:8080/"
        },
        "id": "6i6qFdqcKcAR",
        "outputId": "1c8f4537-e56a-4a86-9f34-57d6dfe1d0ad"
      },
      "outputs": [
        {
          "output_type": "execute_result",
          "data": {
            "text/plain": [
              "array([[164, 206,  84],\n",
              "       [105, 140,  61],\n",
              "       [118, 148, 101],\n",
              "       [129, 158, 115],\n",
              "       [134, 159, 119],\n",
              "       [146, 170, 124],\n",
              "       [166, 185, 150],\n",
              "       [183, 195, 178],\n",
              "       [199, 210, 193],\n",
              "       [174, 190, 163],\n",
              "       [140, 169, 116],\n",
              "       [154, 196, 104],\n",
              "       [173, 223,  93],\n",
              "       [178, 230,  83],\n",
              "       [169, 219,  67],\n",
              "       [177, 227,  73],\n",
              "       [180, 228,  89],\n",
              "       [178, 225,  85],\n",
              "       [175, 222,  72],\n",
              "       [192, 236, 100],\n",
              "       [199, 243, 110],\n",
              "       [203, 243,  97],\n",
              "       [188, 229,  90],\n",
              "       [169, 206,  94],\n",
              "       [161, 194, 109],\n",
              "       [151, 187, 121],\n",
              "       [150, 187, 120],\n",
              "       [133, 169,  95],\n",
              "       [123, 159,  88],\n",
              "       [109, 147,  73],\n",
              "       [108, 147,  69],\n",
              "       [ 91, 129,  57]], dtype=uint8)"
            ]
          },
          "metadata": {},
          "execution_count": 5
        }
      ],
      "source": [
        "# check how the data looks\n",
        "X_train[6][0]"
      ]
    },
    {
      "cell_type": "markdown",
      "metadata": {
        "id": "UEReBZDOcqs0"
      },
      "source": [
        "The values above range from 0 to 255\n",
        "\n",
        "\n",
        "\n"
      ]
    },
    {
      "cell_type": "code",
      "execution_count": 6,
      "metadata": {
        "colab": {
          "base_uri": "https://localhost:8080/"
        },
        "id": "0pNXUuS7Kccm",
        "outputId": "21f62d16-1761-4034-c156-b6320a4c657c"
      },
      "outputs": [
        {
          "output_type": "execute_result",
          "data": {
            "text/plain": [
              "array([[6],\n",
              "       [9],\n",
              "       [9],\n",
              "       [4],\n",
              "       [1]], dtype=uint8)"
            ]
          },
          "metadata": {},
          "execution_count": 6
        }
      ],
      "source": [
        "# check the target labels\n",
        "y_train[0:5]"
      ]
    },
    {
      "cell_type": "markdown",
      "metadata": {
        "id": "OLs9grQvdepP"
      },
      "source": [
        "Let's examine the value at index 1"
      ]
    },
    {
      "cell_type": "code",
      "execution_count": 7,
      "metadata": {
        "colab": {
          "base_uri": "https://localhost:8080/"
        },
        "id": "a5sU2eK8Ykkn",
        "outputId": "e14d7cde-c4bf-4577-9130-7c47b6800a41"
      },
      "outputs": [
        {
          "output_type": "execute_result",
          "data": {
            "text/plain": [
              "array([9], dtype=uint8)"
            ]
          },
          "metadata": {},
          "execution_count": 7
        }
      ],
      "source": [
        "y_train[1]"
      ]
    },
    {
      "cell_type": "code",
      "execution_count": 8,
      "metadata": {
        "colab": {
          "base_uri": "https://localhost:8080/",
          "height": 159
        },
        "id": "htqXulDBM78H",
        "outputId": "85782fd4-11c8-4e13-9c0f-8b3bb5d58e32"
      },
      "outputs": [
        {
          "output_type": "execute_result",
          "data": {
            "text/plain": [
              "<matplotlib.image.AxesImage at 0x7a6422a2ca00>"
            ]
          },
          "metadata": {},
          "execution_count": 8
        },
        {
          "output_type": "display_data",
          "data": {
            "text/plain": [
              "<Figure size 100x100 with 1 Axes>"
            ],
            "image/png": "[encoded data removed]"
          },
          "metadata": {}
        }
      ],
      "source": [
        "# plot image of index 1\n",
        "plt.figure(figsize= (1, 1))\n",
        "plt.imshow(X_train[1])"
      ]
    },
    {
      "cell_type": "code",
      "execution_count": 9,
      "metadata": {
        "colab": {
          "base_uri": "https://localhost:8080/",
          "height": 35
        },
        "id": "ePAeMKTlfZFS",
        "outputId": "24a17869-e300-4fa1-8378-c019a48904b1"
      },
      "outputs": [
        {
          "output_type": "execute_result",
          "data": {
            "text/plain": [
              "'truck'"
            ],
            "application/vnd.google.colaboratory.intrinsic+json": {
              "type": "string"
            }
          },
          "metadata": {},
          "execution_count": 9
        }
      ],
      "source": [
        "classes[y_train[1][0]]"
      ]
    },
    {
      "cell_type": "markdown",
      "metadata": {
        "id": "ciutPT2tiEhz"
      },
      "source": [
        "Let's create a function that will plot the sample"
      ]
    },
    {
      "cell_type": "code",
      "execution_count": 10,
      "metadata": {
        "id": "g-qtp6qeNx-I"
      },
      "outputs": [],
      "source": [
        "def plot_sample(test_or_train, index):\n",
        "  if test_or_train.lower() == 'train':\n",
        "    print(classes[y_train[index][0]])\n",
        "    plt.figure(figsize= (1, 1))\n",
        "    plt.imshow(X_train[index])\n",
        "  elif test_or_train.lower() == 'test':\n",
        "    print(classes[y_test[index][0]])\n",
        "    plt.figure(figsize= (1, 1))\n",
        "    plt.imshow(X_test[index])"
      ]
    },
    {
      "cell_type": "code",
      "execution_count": 11,
      "metadata": {
        "colab": {
          "base_uri": "https://localhost:8080/",
          "height": 159
        },
        "id": "HgMdymrMOSO3",
        "outputId": "14a149eb-fc81-4a1c-d17a-a6b548d4788d"
      },
      "outputs": [
        {
          "output_type": "stream",
          "name": "stdout",
          "text": [
            "bird\n"
          ]
        },
        {
          "output_type": "display_data",
          "data": {
            "text/plain": [
              "<Figure size 100x100 with 1 Axes>"
            ],
            "image/png": "[encoded data removed]"
          },
          "metadata": {}
        }
      ],
      "source": [
        "plot_sample('train', 120)"
      ]
    },
    {
      "cell_type": "code",
      "execution_count": 11,
      "metadata": {
        "id": "hsHcALRCPLMW"
      },
      "outputs": [],
      "source": []
    },
    {
      "cell_type": "code",
      "execution_count": 11,
      "metadata": {
        "id": "HaBg7ncpj2Re"
      },
      "outputs": [],
      "source": []
    },
    {
      "cell_type": "markdown",
      "metadata": {
        "id": "5Qv69qwNjpcl"
      },
      "source": [
        "# Data Scaling"
      ]
    },
    {
      "cell_type": "markdown",
      "metadata": {
        "id": "MZQX1oGUQuFO"
      },
      "source": [
        "Because the RGB values in our data ranges from 0 to 255, we will divide all of them by 255 to scale them between 0 & 1."
      ]
    },
    {
      "cell_type": "code",
      "execution_count": 12,
      "metadata": {
        "colab": {
          "base_uri": "https://localhost:8080/"
        },
        "id": "gZyDhpIsQrxc",
        "outputId": "8b67ef57-ca5b-425e-9793-8a7a10e9f748"
      },
      "outputs": [
        {
          "output_type": "execute_result",
          "data": {
            "text/plain": [
              "array([139, 108,  77], dtype=uint8)"
            ]
          },
          "metadata": {},
          "execution_count": 12
        }
      ],
      "source": [
        "X_train[0][0][23]"
      ]
    },
    {
      "cell_type": "code",
      "execution_count": 13,
      "metadata": {
        "id": "Rpm6ocAyRqDT"
      },
      "outputs": [],
      "source": [
        "X_train_scaled = X_train / 255\n",
        "X_test_scaled = X_test / 255"
      ]
    },
    {
      "cell_type": "code",
      "execution_count": 14,
      "metadata": {
        "colab": {
          "base_uri": "https://localhost:8080/"
        },
        "id": "wAim5y5gPAra",
        "outputId": "f21b2bb5-5ac7-428c-8558-40bbb67935a9"
      },
      "outputs": [
        {
          "output_type": "execute_result",
          "data": {
            "text/plain": [
              "array([0.54509804, 0.42352941, 0.30196078])"
            ]
          },
          "metadata": {},
          "execution_count": 14
        }
      ],
      "source": [
        "X_train_scaled[0][0][23]"
      ]
    },
    {
      "cell_type": "code",
      "execution_count": 15,
      "metadata": {
        "colab": {
          "base_uri": "https://localhost:8080/"
        },
        "id": "pfksXTbyR0uz",
        "outputId": "a9054af7-c009-4aee-c1e3-89982095d697"
      },
      "outputs": [
        {
          "output_type": "execute_result",
          "data": {
            "text/plain": [
              "(50000, 32, 32, 3)"
            ]
          },
          "metadata": {},
          "execution_count": 15
        }
      ],
      "source": [
        "X_train.shape"
      ]
    },
    {
      "cell_type": "code",
      "execution_count": 16,
      "metadata": {
        "colab": {
          "base_uri": "https://localhost:8080/"
        },
        "id": "VkgmnJW-SGb9",
        "outputId": "a8c4bc1e-cf90-4611-ca8d-6ec690f3c7d9"
      },
      "outputs": [
        {
          "output_type": "stream",
          "name": "stdout",
          "text": [
            "Epoch 1/50\n",
            "1563/1563 [==============================] - 55s 34ms/step - loss: 1.8499 - accuracy: 0.3372\n",
            "Epoch 2/50\n",
            "1563/1563 [==============================] - 37s 24ms/step - loss: 1.6549 - accuracy: 0.4104\n",
            "Epoch 3/50\n",
            "1563/1563 [==============================] - 39s 25ms/step - loss: 1.5692 - accuracy: 0.4410\n",
            "Epoch 4/50\n",
            "1563/1563 [==============================] - 39s 25ms/step - loss: 1.5064 - accuracy: 0.4650\n",
            "Epoch 5/50\n",
            "1563/1563 [==============================] - 33s 21ms/step - loss: 1.4583 - accuracy: 0.4847\n",
            "Epoch 6/50\n",
            "1563/1563 [==============================] - 32s 21ms/step - loss: 1.4154 - accuracy: 0.4953\n",
            "Epoch 7/50\n",
            "1563/1563 [==============================] - 33s 21ms/step - loss: 1.3815 - accuracy: 0.5095\n",
            "Epoch 8/50\n",
            "1563/1563 [==============================] - 32s 21ms/step - loss: 1.3464 - accuracy: 0.5235\n",
            "Epoch 9/50\n",
            "1563/1563 [==============================] - 31s 20ms/step - loss: 1.3142 - accuracy: 0.5344\n",
            "Epoch 10/50\n",
            "1563/1563 [==============================] - 31s 20ms/step - loss: 1.2805 - accuracy: 0.5470\n",
            "Epoch 11/50\n",
            "1563/1563 [==============================] - 32s 20ms/step - loss: 1.2556 - accuracy: 0.5558\n",
            "Epoch 12/50\n",
            "1563/1563 [==============================] - 30s 19ms/step - loss: 1.2292 - accuracy: 0.5630\n",
            "Epoch 13/50\n",
            "1563/1563 [==============================] - 31s 20ms/step - loss: 1.2036 - accuracy: 0.5736\n",
            "Epoch 14/50\n",
            "1563/1563 [==============================] - 30s 19ms/step - loss: 1.1775 - accuracy: 0.5819\n",
            "Epoch 15/50\n",
            "1563/1563 [==============================] - 30s 19ms/step - loss: 1.1492 - accuracy: 0.5944\n",
            "Epoch 16/50\n",
            "1563/1563 [==============================] - 29s 18ms/step - loss: 1.1246 - accuracy: 0.6035\n",
            "Epoch 17/50\n",
            "1563/1563 [==============================] - 28s 18ms/step - loss: 1.1023 - accuracy: 0.6101\n",
            "Epoch 18/50\n",
            "1563/1563 [==============================] - 29s 18ms/step - loss: 1.0778 - accuracy: 0.6183\n",
            "Epoch 19/50\n",
            "1563/1563 [==============================] - 30s 19ms/step - loss: 1.0534 - accuracy: 0.6264\n",
            "Epoch 20/50\n",
            "1563/1563 [==============================] - 30s 19ms/step - loss: 1.0265 - accuracy: 0.6389\n",
            "Epoch 21/50\n",
            "1563/1563 [==============================] - 29s 19ms/step - loss: 1.0032 - accuracy: 0.6465\n",
            "Epoch 22/50\n",
            "1563/1563 [==============================] - 28s 18ms/step - loss: 0.9815 - accuracy: 0.6540\n",
            "Epoch 23/50\n",
            "1563/1563 [==============================] - 29s 18ms/step - loss: 0.9580 - accuracy: 0.6612\n",
            "Epoch 24/50\n",
            "1563/1563 [==============================] - 27s 18ms/step - loss: 0.9324 - accuracy: 0.6699\n",
            "Epoch 25/50\n",
            "1563/1563 [==============================] - 27s 17ms/step - loss: 0.9068 - accuracy: 0.6813\n",
            "Epoch 26/50\n",
            "1563/1563 [==============================] - 28s 18ms/step - loss: 0.8785 - accuracy: 0.6897\n",
            "Epoch 27/50\n",
            "1563/1563 [==============================] - 29s 19ms/step - loss: 0.8553 - accuracy: 0.6984\n",
            "Epoch 28/50\n",
            "1563/1563 [==============================] - 30s 19ms/step - loss: 0.8365 - accuracy: 0.7031\n",
            "Epoch 29/50\n",
            "1563/1563 [==============================] - 27s 18ms/step - loss: 0.8097 - accuracy: 0.7152\n",
            "Epoch 30/50\n",
            "1563/1563 [==============================] - 28s 18ms/step - loss: 0.7849 - accuracy: 0.7239\n",
            "Epoch 31/50\n",
            "1563/1563 [==============================] - 29s 18ms/step - loss: 0.7612 - accuracy: 0.7328\n",
            "Epoch 32/50\n",
            "1563/1563 [==============================] - 30s 19ms/step - loss: 0.7364 - accuracy: 0.7411\n",
            "Epoch 33/50\n",
            "1563/1563 [==============================] - 29s 19ms/step - loss: 0.7149 - accuracy: 0.7471\n",
            "Epoch 34/50\n",
            "1563/1563 [==============================] - 30s 19ms/step - loss: 0.6888 - accuracy: 0.7581\n",
            "Epoch 35/50\n",
            "1563/1563 [==============================] - 29s 19ms/step - loss: 0.6644 - accuracy: 0.7664\n",
            "Epoch 36/50\n",
            "1563/1563 [==============================] - 29s 19ms/step - loss: 0.6446 - accuracy: 0.7715\n",
            "Epoch 37/50\n",
            "1563/1563 [==============================] - 29s 18ms/step - loss: 0.6202 - accuracy: 0.7823\n",
            "Epoch 38/50\n",
            "1563/1563 [==============================] - 29s 19ms/step - loss: 0.5943 - accuracy: 0.7934\n",
            "Epoch 39/50\n",
            "1563/1563 [==============================] - 28s 18ms/step - loss: 0.5709 - accuracy: 0.8001\n",
            "Epoch 40/50\n",
            "1563/1563 [==============================] - 28s 18ms/step - loss: 0.5525 - accuracy: 0.8067\n",
            "Epoch 41/50\n",
            "1563/1563 [==============================] - 28s 18ms/step - loss: 0.5306 - accuracy: 0.8154\n",
            "Epoch 42/50\n",
            "1563/1563 [==============================] - 29s 19ms/step - loss: 0.5101 - accuracy: 0.8220\n",
            "Epoch 43/50\n",
            "1563/1563 [==============================] - 28s 18ms/step - loss: 0.4892 - accuracy: 0.8270\n",
            "Epoch 44/50\n",
            "1563/1563 [==============================] - 29s 18ms/step - loss: 0.4654 - accuracy: 0.8386\n",
            "Epoch 45/50\n",
            "1563/1563 [==============================] - 28s 18ms/step - loss: 0.4459 - accuracy: 0.8435\n",
            "Epoch 46/50\n",
            "1563/1563 [==============================] - 29s 18ms/step - loss: 0.4264 - accuracy: 0.8540\n",
            "Epoch 47/50\n",
            "1563/1563 [==============================] - 28s 18ms/step - loss: 0.4061 - accuracy: 0.8600\n",
            "Epoch 48/50\n",
            "1563/1563 [==============================] - 28s 18ms/step - loss: 0.3858 - accuracy: 0.8655\n",
            "Epoch 49/50\n",
            "1563/1563 [==============================] - 28s 18ms/step - loss: 0.3694 - accuracy: 0.8738\n",
            "Epoch 50/50\n",
            "1563/1563 [==============================] - 29s 18ms/step - loss: 0.3489 - accuracy: 0.8804\n"
          ]
        },
        {
          "output_type": "execute_result",
          "data": {
            "text/plain": [
              "<keras.src.callbacks.History at 0x7a63bc6334c0>"
            ]
          },
          "metadata": {},
          "execution_count": 16
        }
      ],
      "source": [
        "from keras.callbacks import EarlyStopping\n",
        "\n",
        "early_stopping = EarlyStopping(monitor='loss', patience=5, restore_best_weights=True)\n",
        "\n",
        "ann_model = keras.Sequential([\n",
        "    keras.layers.Flatten(input_shape = (32, 32, 3)),\n",
        "    keras.layers.Dense(687, activation = 'relu'),\n",
        "    keras.layers.Dense(567, activation = 'relu'),\n",
        "    keras.layers.Dense(230, activation = 'relu'),\n",
        "    keras.layers.Dense(10, activation = 'softmax')\n",
        "])\n",
        "ann_model.compile(optimizer  ='SGD',\n",
        "              loss = 'sparse_categorical_crossentropy',\n",
        "              metrics = ['accuracy']\n",
        "              )\n",
        "\n",
        "ann_model.fit(X_train_scaled, y_train, epochs = 50, callbacks = [early_stopping])"
      ]
    },
    {
      "cell_type": "code",
      "execution_count": 17,
      "metadata": {
        "colab": {
          "base_uri": "https://localhost:8080/"
        },
        "id": "CZXMYxLfnsDG",
        "outputId": "95f13607-f595-495f-b281-28ceb2033ba3"
      },
      "outputs": [
        {
          "output_type": "stream",
          "name": "stdout",
          "text": [
            "313/313 [==============================] - 2s 7ms/step\n"
          ]
        }
      ],
      "source": [
        "# predict X test\n",
        "ann_predictions = ann_model.predict(X_test_scaled)"
      ]
    },
    {
      "cell_type": "code",
      "execution_count": 18,
      "metadata": {
        "id": "QdlCrIUoqu6s"
      },
      "outputs": [],
      "source": [
        "ann_predictions = [np.argmax(i) for i in ann_predictions]"
      ]
    },
    {
      "cell_type": "markdown",
      "metadata": {
        "id": "59XS0tgFrnOQ"
      },
      "source": [
        "Let's build a Convoluted Neural Network"
      ]
    },
    {
      "cell_type": "code",
      "execution_count": 19,
      "metadata": {
        "colab": {
          "base_uri": "https://localhost:8080/"
        },
        "id": "FVYuLL6TquoB",
        "outputId": "262ce8f7-50e8-4366-f823-093fb383a896"
      },
      "outputs": [
        {
          "output_type": "stream",
          "name": "stdout",
          "text": [
            "Epoch 1/100\n",
            "1563/1563 [==============================] - 59s 37ms/step - loss: 1.6733 - accuracy: 0.3802\n",
            "Epoch 2/100\n",
            "1563/1563 [==============================] - 58s 37ms/step - loss: 1.3490 - accuracy: 0.5127\n",
            "Epoch 3/100\n",
            "1563/1563 [==============================] - 57s 36ms/step - loss: 1.2077 - accuracy: 0.5675\n",
            "Epoch 4/100\n",
            "1563/1563 [==============================] - 59s 38ms/step - loss: 1.1235 - accuracy: 0.6006\n",
            "Epoch 5/100\n",
            "1563/1563 [==============================] - 58s 37ms/step - loss: 1.0579 - accuracy: 0.6276\n",
            "Epoch 6/100\n",
            "1563/1563 [==============================] - 58s 37ms/step - loss: 1.0037 - accuracy: 0.6449\n",
            "Epoch 7/100\n",
            "1563/1563 [==============================] - 57s 36ms/step - loss: 0.9610 - accuracy: 0.6598\n",
            "Epoch 8/100\n",
            "1563/1563 [==============================] - 58s 37ms/step - loss: 0.9227 - accuracy: 0.6744\n",
            "Epoch 9/100\n",
            "1563/1563 [==============================] - 57s 37ms/step - loss: 0.8883 - accuracy: 0.6861\n",
            "Epoch 10/100\n",
            "1563/1563 [==============================] - 58s 37ms/step - loss: 0.8541 - accuracy: 0.6982\n",
            "Epoch 11/100\n",
            "1563/1563 [==============================] - 60s 38ms/step - loss: 0.8324 - accuracy: 0.7080\n",
            "Epoch 12/100\n",
            "1563/1563 [==============================] - 58s 37ms/step - loss: 0.8018 - accuracy: 0.7157\n",
            "Epoch 13/100\n",
            "1563/1563 [==============================] - 58s 37ms/step - loss: 0.7801 - accuracy: 0.7227\n",
            "Epoch 14/100\n",
            "1563/1563 [==============================] - 59s 38ms/step - loss: 0.7597 - accuracy: 0.7294\n",
            "Epoch 15/100\n",
            "1563/1563 [==============================] - 58s 37ms/step - loss: 0.7421 - accuracy: 0.7352\n",
            "Epoch 16/100\n",
            "1563/1563 [==============================] - 58s 37ms/step - loss: 0.7241 - accuracy: 0.7406\n",
            "Epoch 17/100\n",
            "1563/1563 [==============================] - 58s 37ms/step - loss: 0.7113 - accuracy: 0.7440\n",
            "Epoch 18/100\n",
            "1563/1563 [==============================] - 58s 37ms/step - loss: 0.6958 - accuracy: 0.7496\n",
            "Epoch 19/100\n",
            "1563/1563 [==============================] - 58s 37ms/step - loss: 0.6791 - accuracy: 0.7571\n",
            "Epoch 20/100\n",
            "1563/1563 [==============================] - 57s 37ms/step - loss: 0.6647 - accuracy: 0.7622\n",
            "Epoch 21/100\n",
            "1563/1563 [==============================] - 60s 39ms/step - loss: 0.6512 - accuracy: 0.7633\n",
            "Epoch 22/100\n",
            "1563/1563 [==============================] - 58s 37ms/step - loss: 0.6432 - accuracy: 0.7687\n",
            "Epoch 23/100\n",
            "1563/1563 [==============================] - 59s 37ms/step - loss: 0.6281 - accuracy: 0.7736\n",
            "Epoch 24/100\n",
            "1563/1563 [==============================] - 57s 37ms/step - loss: 0.6240 - accuracy: 0.7747\n",
            "Epoch 25/100\n",
            "1563/1563 [==============================] - 58s 37ms/step - loss: 0.6052 - accuracy: 0.7799\n",
            "Epoch 26/100\n",
            "1563/1563 [==============================] - 57s 36ms/step - loss: 0.5994 - accuracy: 0.7822\n",
            "Epoch 27/100\n",
            "1563/1563 [==============================] - 57s 37ms/step - loss: 0.5891 - accuracy: 0.7846\n",
            "Epoch 28/100\n",
            "1563/1563 [==============================] - 57s 37ms/step - loss: 0.5856 - accuracy: 0.7867\n",
            "Epoch 29/100\n",
            "1563/1563 [==============================] - 58s 37ms/step - loss: 0.5705 - accuracy: 0.7917\n",
            "Epoch 30/100\n",
            "1563/1563 [==============================] - 57s 36ms/step - loss: 0.5605 - accuracy: 0.7954\n",
            "Epoch 31/100\n",
            "1563/1563 [==============================] - 58s 37ms/step - loss: 0.5644 - accuracy: 0.7950\n",
            "Epoch 32/100\n",
            "1563/1563 [==============================] - 57s 36ms/step - loss: 0.5479 - accuracy: 0.8001\n",
            "Epoch 33/100\n",
            "1563/1563 [==============================] - 58s 37ms/step - loss: 0.5421 - accuracy: 0.7998\n",
            "Epoch 34/100\n",
            "1563/1563 [==============================] - 57s 37ms/step - loss: 0.5385 - accuracy: 0.8027\n",
            "Epoch 35/100\n",
            "1563/1563 [==============================] - 58s 37ms/step - loss: 0.5297 - accuracy: 0.8061\n",
            "Epoch 36/100\n",
            "1563/1563 [==============================] - 57s 36ms/step - loss: 0.5280 - accuracy: 0.8055\n",
            "Epoch 37/100\n",
            "1563/1563 [==============================] - 58s 37ms/step - loss: 0.5185 - accuracy: 0.8082\n",
            "Epoch 38/100\n",
            "1563/1563 [==============================] - 57s 36ms/step - loss: 0.5131 - accuracy: 0.8109\n",
            "Epoch 39/100\n",
            "1563/1563 [==============================] - 58s 37ms/step - loss: 0.5028 - accuracy: 0.8143\n",
            "Epoch 40/100\n",
            "1563/1563 [==============================] - 57s 36ms/step - loss: 0.4975 - accuracy: 0.8155\n",
            "Epoch 41/100\n",
            "1563/1563 [==============================] - 58s 37ms/step - loss: 0.5003 - accuracy: 0.8150\n",
            "Epoch 42/100\n",
            "1563/1563 [==============================] - 57s 36ms/step - loss: 0.4884 - accuracy: 0.8187\n",
            "Epoch 43/100\n",
            "1563/1563 [==============================] - 58s 37ms/step - loss: 0.4887 - accuracy: 0.8189\n",
            "Epoch 44/100\n",
            "1563/1563 [==============================] - 57s 36ms/step - loss: 0.4814 - accuracy: 0.8211\n",
            "Epoch 45/100\n",
            "1563/1563 [==============================] - 58s 37ms/step - loss: 0.4798 - accuracy: 0.8238\n",
            "Epoch 46/100\n",
            "1563/1563 [==============================] - 57s 36ms/step - loss: 0.4650 - accuracy: 0.8274\n",
            "Epoch 47/100\n",
            "1563/1563 [==============================] - 59s 38ms/step - loss: 0.4689 - accuracy: 0.8258\n",
            "Epoch 48/100\n",
            "1563/1563 [==============================] - 58s 37ms/step - loss: 0.4565 - accuracy: 0.8298\n",
            "Epoch 49/100\n",
            "1563/1563 [==============================] - 59s 38ms/step - loss: 0.4573 - accuracy: 0.8309\n",
            "Epoch 50/100\n",
            "1563/1563 [==============================] - 58s 37ms/step - loss: 0.4495 - accuracy: 0.8342\n",
            "Epoch 51/100\n",
            "1563/1563 [==============================] - 60s 38ms/step - loss: 0.4517 - accuracy: 0.8303\n",
            "Epoch 52/100\n",
            "1563/1563 [==============================] - 58s 37ms/step - loss: 0.4434 - accuracy: 0.8356\n",
            "Epoch 53/100\n",
            "1563/1563 [==============================] - 59s 37ms/step - loss: 0.4485 - accuracy: 0.8342\n",
            "Epoch 54/100\n",
            "1563/1563 [==============================] - 59s 38ms/step - loss: 0.4348 - accuracy: 0.8392\n",
            "Epoch 55/100\n",
            "1563/1563 [==============================] - 58s 37ms/step - loss: 0.4312 - accuracy: 0.8401\n",
            "Epoch 56/100\n",
            "1563/1563 [==============================] - 60s 38ms/step - loss: 0.4380 - accuracy: 0.8363\n",
            "Epoch 57/100\n",
            "1563/1563 [==============================] - 59s 37ms/step - loss: 0.4291 - accuracy: 0.8413\n",
            "Epoch 58/100\n",
            "1563/1563 [==============================] - 59s 38ms/step - loss: 0.4236 - accuracy: 0.8423\n",
            "Epoch 59/100\n",
            "1563/1563 [==============================] - 58s 37ms/step - loss: 0.4212 - accuracy: 0.8419\n",
            "Epoch 60/100\n",
            "1563/1563 [==============================] - 58s 37ms/step - loss: 0.4081 - accuracy: 0.8483\n",
            "Epoch 61/100\n",
            "1563/1563 [==============================] - 58s 37ms/step - loss: 0.4143 - accuracy: 0.8455\n",
            "Epoch 62/100\n",
            "1563/1563 [==============================] - 57s 37ms/step - loss: 0.4061 - accuracy: 0.8492\n",
            "Epoch 63/100\n",
            "1563/1563 [==============================] - 65s 41ms/step - loss: 0.4074 - accuracy: 0.8475\n",
            "Epoch 64/100\n",
            "1563/1563 [==============================] - 61s 39ms/step - loss: 0.4022 - accuracy: 0.8488\n",
            "Epoch 65/100\n",
            "1563/1563 [==============================] - 58s 37ms/step - loss: 0.4025 - accuracy: 0.8492\n",
            "Epoch 66/100\n",
            "1563/1563 [==============================] - 59s 37ms/step - loss: 0.3997 - accuracy: 0.8518\n",
            "Epoch 67/100\n",
            "1563/1563 [==============================] - 57s 37ms/step - loss: 0.3960 - accuracy: 0.8511\n",
            "Epoch 68/100\n",
            "1563/1563 [==============================] - 58s 37ms/step - loss: 0.3982 - accuracy: 0.8507\n",
            "Epoch 69/100\n",
            "1563/1563 [==============================] - 57s 37ms/step - loss: 0.3874 - accuracy: 0.8549\n",
            "Epoch 70/100\n",
            "1563/1563 [==============================] - 58s 37ms/step - loss: 0.3932 - accuracy: 0.8540\n",
            "Epoch 71/100\n",
            "1563/1563 [==============================] - 57s 37ms/step - loss: 0.3827 - accuracy: 0.8555\n",
            "Epoch 72/100\n",
            "1563/1563 [==============================] - 58s 37ms/step - loss: 0.3804 - accuracy: 0.8566\n",
            "Epoch 73/100\n",
            "1563/1563 [==============================] - 57s 37ms/step - loss: 0.3840 - accuracy: 0.8566\n",
            "Epoch 74/100\n",
            "1563/1563 [==============================] - 58s 37ms/step - loss: 0.3816 - accuracy: 0.8562\n",
            "Epoch 75/100\n",
            "1563/1563 [==============================] - 57s 37ms/step - loss: 0.3772 - accuracy: 0.8590\n",
            "Epoch 76/100\n",
            "1563/1563 [==============================] - 58s 37ms/step - loss: 0.3794 - accuracy: 0.8586\n",
            "Epoch 77/100\n",
            "1563/1563 [==============================] - 57s 37ms/step - loss: 0.3781 - accuracy: 0.8578\n",
            "Epoch 78/100\n",
            "1563/1563 [==============================] - 58s 37ms/step - loss: 0.3734 - accuracy: 0.8615\n",
            "Epoch 79/100\n",
            "1563/1563 [==============================] - 58s 37ms/step - loss: 0.3637 - accuracy: 0.8635\n",
            "Epoch 80/100\n",
            "1563/1563 [==============================] - 58s 37ms/step - loss: 0.3655 - accuracy: 0.8623\n",
            "Epoch 81/100\n",
            "1563/1563 [==============================] - 58s 37ms/step - loss: 0.3611 - accuracy: 0.8648\n",
            "Epoch 82/100\n",
            "1563/1563 [==============================] - 58s 37ms/step - loss: 0.3682 - accuracy: 0.8628\n",
            "Epoch 83/100\n",
            "1563/1563 [==============================] - 58s 37ms/step - loss: 0.3592 - accuracy: 0.8674\n",
            "Epoch 84/100\n",
            "1563/1563 [==============================] - 60s 38ms/step - loss: 0.3595 - accuracy: 0.8664\n",
            "Epoch 85/100\n",
            "1563/1563 [==============================] - 58s 37ms/step - loss: 0.3550 - accuracy: 0.8677\n",
            "Epoch 86/100\n",
            "1563/1563 [==============================] - 58s 37ms/step - loss: 0.3496 - accuracy: 0.8677\n",
            "Epoch 87/100\n",
            "1563/1563 [==============================] - 58s 37ms/step - loss: 0.3592 - accuracy: 0.8663\n",
            "Epoch 88/100\n",
            "1563/1563 [==============================] - 60s 39ms/step - loss: 0.3540 - accuracy: 0.8676\n",
            "Epoch 89/100\n",
            "1563/1563 [==============================] - 59s 38ms/step - loss: 0.3511 - accuracy: 0.8691\n",
            "Epoch 90/100\n",
            "1563/1563 [==============================] - 59s 38ms/step - loss: 0.3437 - accuracy: 0.8717\n",
            "Epoch 91/100\n",
            "1563/1563 [==============================] - 59s 38ms/step - loss: 0.3513 - accuracy: 0.8684\n",
            "Epoch 92/100\n",
            "1563/1563 [==============================] - 64s 41ms/step - loss: 0.3413 - accuracy: 0.8718\n",
            "Epoch 93/100\n",
            "1563/1563 [==============================] - 65s 41ms/step - loss: 0.3421 - accuracy: 0.8705\n",
            "Epoch 94/100\n",
            "1563/1563 [==============================] - 65s 42ms/step - loss: 0.3423 - accuracy: 0.8717\n",
            "Epoch 95/100\n",
            "1563/1563 [==============================] - 64s 41ms/step - loss: 0.3408 - accuracy: 0.8737\n",
            "Epoch 96/100\n",
            "1563/1563 [==============================] - 68s 44ms/step - loss: 0.3374 - accuracy: 0.8747\n",
            "Epoch 97/100\n",
            "1563/1563 [==============================] - 66s 42ms/step - loss: 0.3362 - accuracy: 0.8737\n",
            "Epoch 98/100\n",
            "1563/1563 [==============================] - 66s 42ms/step - loss: 0.3348 - accuracy: 0.8774\n",
            "Epoch 99/100\n",
            "1563/1563 [==============================] - 64s 41ms/step - loss: 0.3386 - accuracy: 0.8731\n",
            "Epoch 100/100\n",
            "1563/1563 [==============================] - 58s 37ms/step - loss: 0.3346 - accuracy: 0.8766\n"
          ]
        },
        {
          "output_type": "execute_result",
          "data": {
            "text/plain": [
              "<keras.src.callbacks.History at 0x7a63adefe7a0>"
            ]
          },
          "metadata": {},
          "execution_count": 19
        }
      ],
      "source": [
        "early_stopping = EarlyStopping(monitor='loss', patience=5, restore_best_weights=True)\n",
        "\n",
        "cnn_model = keras.Sequential([\n",
        "    keras.layers.Conv2D(filters = 32, kernel_size=(3, 3), input_shape= (32, 32, 3), activation = 'relu'),\n",
        "    keras.layers.MaxPooling2D((2,2)),\n",
        "    keras.layers.Conv2D(filters = 64, kernel_size=(3, 3), activation = 'relu'),\n",
        "    keras.layers.MaxPooling2D((2,2)),\n",
        "\n",
        "\n",
        "\n",
        "    keras.layers.Flatten(),\n",
        "    keras.layers.Dense(64, activation = 'relu'),\n",
        "    keras.layers.Dropout(0.3),\n",
        "    keras.layers.Dense(20, activation = 'relu'),\n",
        "    keras.layers.Dense(10, activation = 'softmax')\n",
        "])\n",
        "\n",
        "cnn_model.compile(optimizer  ='adam',\n",
        "              loss = 'sparse_categorical_crossentropy',\n",
        "              metrics = ['accuracy']\n",
        "              )\n",
        "\n",
        "cnn_model.fit(X_train_scaled, y_train, epochs = 100, callbacks = [early_stopping])"
      ]
    },
    {
      "cell_type": "code",
      "execution_count": 23,
      "metadata": {
        "colab": {
          "base_uri": "https://localhost:8080/"
        },
        "id": "UB2oKIIkquQ_",
        "outputId": "d2b34093-9693-4178-8252-dae7468fe6cc"
      },
      "outputs": [
        {
          "output_type": "stream",
          "name": "stdout",
          "text": [
            "313/313 [==============================] - 8s 23ms/step\n"
          ]
        }
      ],
      "source": [
        "cnn_predictions = cnn_model.predict(X_test_scaled)\n",
        "cnn_predictions = [np.argmax(i) for i in cnn_predictions]"
      ]
    },
    {
      "cell_type": "markdown",
      "metadata": {
        "id": "nHrE1q12qrCT"
      },
      "source": [
        "# Evaluation"
      ]
    },
    {
      "cell_type": "markdown",
      "metadata": {
        "id": "kLPqq8RuiWSm"
      },
      "source": [
        "ANN model"
      ]
    },
    {
      "cell_type": "code",
      "execution_count": 25,
      "metadata": {
        "colab": {
          "base_uri": "https://localhost:8080/"
        },
        "id": "NXFWTQ7wh7FB",
        "outputId": "3cc17835-2910-45e5-e0cc-8b5e73cf2ac2"
      },
      "outputs": [
        {
          "output_type": "stream",
          "name": "stdout",
          "text": [
            "1563/1563 [==============================] - 15s 10ms/step - loss: 0.3772 - accuracy: 0.8645\n"
          ]
        },
        {
          "output_type": "execute_result",
          "data": {
            "text/plain": [
              "[0.3772372007369995, 0.8644999861717224]"
            ]
          },
          "metadata": {},
          "execution_count": 25
        }
      ],
      "source": [
        "# train set evaluation\n",
        "ann_model.evaluate(X_train_scaled, y_train)"
      ]
    },
    {
      "cell_type": "code",
      "execution_count": 24,
      "metadata": {
        "colab": {
          "base_uri": "https://localhost:8080/"
        },
        "id": "XRNGOBVzqASG",
        "outputId": "feb5fcb6-6c55-4821-ec3a-4b1f01643ade"
      },
      "outputs": [
        {
          "output_type": "stream",
          "name": "stdout",
          "text": [
            "313/313 [==============================] - 3s 8ms/step - loss: 1.8847 - accuracy: 0.5377\n"
          ]
        },
        {
          "output_type": "execute_result",
          "data": {
            "text/plain": [
              "[1.8846977949142456, 0.5376999974250793]"
            ]
          },
          "metadata": {},
          "execution_count": 24
        }
      ],
      "source": [
        "# Test set evaluation\n",
        "ann_model.evaluate(X_test_scaled, y_test)"
      ]
    },
    {
      "cell_type": "markdown",
      "source": [
        "The ANN model is overfitting because it is performing far better on the training set than on the test set."
      ],
      "metadata": {
        "id": "3lwJhkpMKMnk"
      }
    },
    {
      "cell_type": "code",
      "execution_count": 26,
      "metadata": {
        "colab": {
          "base_uri": "https://localhost:8080/"
        },
        "id": "q5YygAUuqdpL",
        "outputId": "de444a9d-5534-441e-9b28-8a20f8a199b3"
      },
      "outputs": [
        {
          "output_type": "stream",
          "name": "stdout",
          "text": [
            "              precision    recall  f1-score   support\n",
            "\n",
            "           0       0.72      0.50      0.59      1000\n",
            "           1       0.72      0.63      0.67      1000\n",
            "           2       0.39      0.42      0.41      1000\n",
            "           3       0.44      0.20      0.27      1000\n",
            "           4       0.45      0.49      0.47      1000\n",
            "           5       0.36      0.66      0.46      1000\n",
            "           6       0.59      0.64      0.61      1000\n",
            "           7       0.59      0.63      0.61      1000\n",
            "           8       0.67      0.67      0.67      1000\n",
            "           9       0.66      0.54      0.59      1000\n",
            "\n",
            "    accuracy                           0.54     10000\n",
            "   macro avg       0.56      0.54      0.54     10000\n",
            "weighted avg       0.56      0.54      0.54     10000\n",
            "\n"
          ]
        }
      ],
      "source": [
        "# classification matrix\n",
        "print(classification_report(y_test, ann_predictions))"
      ]
    },
    {
      "cell_type": "code",
      "execution_count": null,
      "metadata": {
        "id": "nmpDtDpgkj2N"
      },
      "outputs": [],
      "source": []
    },
    {
      "cell_type": "markdown",
      "metadata": {
        "id": "WmAtBBi2kk5l"
      },
      "source": [
        "CNN model"
      ]
    },
    {
      "cell_type": "code",
      "execution_count": 27,
      "metadata": {
        "colab": {
          "base_uri": "https://localhost:8080/"
        },
        "id": "YHkY7HAikjqf",
        "outputId": "bcb0b791-b177-45dd-f98c-626aef6f0831"
      },
      "outputs": [
        {
          "output_type": "stream",
          "name": "stdout",
          "text": [
            "1563/1563 [==============================] - 28s 18ms/step - loss: 0.1316 - accuracy: 0.9606\n"
          ]
        },
        {
          "output_type": "execute_result",
          "data": {
            "text/plain": [
              "[0.13157308101654053, 0.960640013217926]"
            ]
          },
          "metadata": {},
          "execution_count": 27
        }
      ],
      "source": [
        "# train set evaluation\n",
        "cnn_model.evaluate(X_train_scaled, y_train)"
      ]
    },
    {
      "cell_type": "code",
      "execution_count": 28,
      "metadata": {
        "colab": {
          "base_uri": "https://localhost:8080/"
        },
        "id": "C1JDRfdnkjxM",
        "outputId": "6b3568ad-cb10-4c26-c3bf-74306b0ecabd"
      },
      "outputs": [
        {
          "output_type": "stream",
          "name": "stdout",
          "text": [
            "313/313 [==============================] - 4s 13ms/step - loss: 1.3911 - accuracy: 0.6935\n"
          ]
        },
        {
          "output_type": "execute_result",
          "data": {
            "text/plain": [
              "[1.391061544418335, 0.6934999823570251]"
            ]
          },
          "metadata": {},
          "execution_count": 28
        }
      ],
      "source": [
        "# test set evaluation\n",
        "cnn_model.evaluate(X_test_scaled, y_test)"
      ]
    },
    {
      "cell_type": "code",
      "execution_count": 29,
      "metadata": {
        "colab": {
          "base_uri": "https://localhost:8080/"
        },
        "id": "Uy-44Xp2kjkg",
        "outputId": "8af90ba7-15d0-46c5-827a-adb6a478f517"
      },
      "outputs": [
        {
          "output_type": "stream",
          "name": "stdout",
          "text": [
            "              precision    recall  f1-score   support\n",
            "\n",
            "           0       0.69      0.77      0.73      1000\n",
            "           1       0.84      0.80      0.82      1000\n",
            "           2       0.62      0.54      0.58      1000\n",
            "           3       0.49      0.48      0.48      1000\n",
            "           4       0.62      0.67      0.65      1000\n",
            "           5       0.56      0.64      0.60      1000\n",
            "           6       0.79      0.70      0.75      1000\n",
            "           7       0.76      0.76      0.76      1000\n",
            "           8       0.77      0.81      0.79      1000\n",
            "           9       0.80      0.77      0.79      1000\n",
            "\n",
            "    accuracy                           0.69     10000\n",
            "   macro avg       0.70      0.69      0.69     10000\n",
            "weighted avg       0.70      0.69      0.69     10000\n",
            "\n"
          ]
        }
      ],
      "source": [
        "# Check classification report for test set\n",
        "print(classification_report(y_test, cnn_predictions))"
      ]
    },
    {
      "cell_type": "code",
      "execution_count": 85,
      "metadata": {
        "colab": {
          "base_uri": "https://localhost:8080/",
          "height": 783
        },
        "id": "S5UxXNqAkjc5",
        "outputId": "1a1e90ff-e554-43eb-f8b4-8d0cf8be7e53"
      },
      "outputs": [
        {
          "output_type": "display_data",
          "data": {
            "text/plain": [
              "<Figure size 800x800 with 2 Axes>"
            ],
            "image/png": "[encoded data removed]"
          },
          "metadata": {}
        }
      ],
      "source": [
        "# Let's see the confusion matrix for our cnn predictions\n",
        "import matplotlib.pyplot as plt\n",
        "from sklearn.metrics import confusion_matrix\n",
        "import seaborn as sns\n",
        "\n",
        "# Create the confusion matrix\n",
        "cm = confusion_matrix(y_test, cnn_predictions)\n",
        "\n",
        "# Set up the plot\n",
        "plt.figure(figsize=(8, 8))\n",
        "\n",
        "# Create a heatmap of the confusion matrix\n",
        "sns.heatmap(cm, annot=True, fmt=\"d\", cmap=\"Blues\", xticklabels=classes, yticklabels=classes)\n",
        "\n",
        "# Set the title and labels\n",
        "plt.title(\"Confusion Matrix - CNN Model\")\n",
        "plt.xlabel(\"Predicted Label\")\n",
        "plt.ylabel(\"True Label\")\n",
        "\n",
        "# Show the plot\n",
        "plt.show()\n"
      ]
    },
    {
      "cell_type": "code",
      "execution_count": 84,
      "metadata": {
        "id": "GoZK9gArkjSk"
      },
      "outputs": [],
      "source": []
    },
    {
      "cell_type": "code",
      "execution_count": 56,
      "metadata": {
        "colab": {
          "base_uri": "https://localhost:8080/",
          "height": 35
        },
        "id": "G1W1ci8poUna",
        "outputId": "6283bb29-53ee-49e5-8915-7a73d50bd8da"
      },
      "outputs": [
        {
          "output_type": "execute_result",
          "data": {
            "text/plain": [
              "'automobile'"
            ],
            "application/vnd.google.colaboratory.intrinsic+json": {
              "type": "string"
            }
          },
          "metadata": {},
          "execution_count": 56
        }
      ],
      "source": [
        "classes[ann_predictions[6]]"
      ]
    },
    {
      "cell_type": "code",
      "source": [
        "classes[cnn_predictions[6]]"
      ],
      "metadata": {
        "colab": {
          "base_uri": "https://localhost:8080/",
          "height": 35
        },
        "id": "sq3vn70QU-eL",
        "outputId": "d155a4ff-390f-4b0f-a5f3-e135a7647893"
      },
      "execution_count": 55,
      "outputs": [
        {
          "output_type": "execute_result",
          "data": {
            "text/plain": [
              "'automobile'"
            ],
            "application/vnd.google.colaboratory.intrinsic+json": {
              "type": "string"
            }
          },
          "metadata": {},
          "execution_count": 55
        }
      ]
    },
    {
      "cell_type": "code",
      "execution_count": 57,
      "metadata": {
        "colab": {
          "base_uri": "https://localhost:8080/",
          "height": 159
        },
        "id": "3jbl_zl9oZRn",
        "outputId": "d6d2634f-4a8d-4aec-8320-8f020b25b5f1"
      },
      "outputs": [
        {
          "output_type": "stream",
          "name": "stdout",
          "text": [
            "automobile\n"
          ]
        },
        {
          "output_type": "display_data",
          "data": {
            "text/plain": [
              "<Figure size 100x100 with 1 Axes>"
            ],
            "image/png": "[encoded data removed]"
          },
          "metadata": {}
        }
      ],
      "source": [
        "plot_sample('test', 6)"
      ]
    },
    {
      "cell_type": "markdown",
      "source": [
        "Let's create a funtion that tells us what the models predicted and what the actual image was."
      ],
      "metadata": {
        "id": "wPTK-zXFOb0B"
      }
    },
    {
      "cell_type": "code",
      "execution_count": 72,
      "metadata": {
        "id": "WR1-KIcMpSlO"
      },
      "outputs": [],
      "source": [
        "def check_prediction_accuracy(index):\n",
        "  print(f'ANN model predicted  {classes[ann_predictions[index]]}.')\n",
        "  print(f'CNN model predicted  {classes[cnn_predictions[index]]}.')\n",
        "  print('The actual picture is: ')\n",
        "  plot_sample('test', index)"
      ]
    },
    {
      "cell_type": "code",
      "execution_count": 73,
      "metadata": {
        "colab": {
          "base_uri": "https://localhost:8080/",
          "height": 211
        },
        "id": "7wOceeNFsANO",
        "outputId": "2c87427d-cfe4-42cb-c7a1-37d6828cd59d"
      },
      "outputs": [
        {
          "output_type": "stream",
          "name": "stdout",
          "text": [
            "ANN model predicted  horse.\n",
            "CNN model predicted  dog.\n",
            "The actual picture is: \n",
            "dog\n"
          ]
        },
        {
          "output_type": "display_data",
          "data": {
            "text/plain": [
              "<Figure size 100x100 with 1 Axes>"
            ],
            "image/png": "[encoded data removed]"
          },
          "metadata": {}
        }
      ],
      "source": [
        "check_prediction_accuracy(16)"
      ]
    },
    {
      "cell_type": "markdown",
      "source": [
        "For the 16th index in the test set, the ANN model got it wrong."
      ],
      "metadata": {
        "id": "qWQ7NkTvO6I_"
      }
    },
    {
      "cell_type": "code",
      "execution_count": 74,
      "metadata": {
        "colab": {
          "base_uri": "https://localhost:8080/",
          "height": 211
        },
        "id": "o3TeQnz6rfUR",
        "outputId": "cb137be9-0f9e-41ed-f12a-d94e821ea4ca"
      },
      "outputs": [
        {
          "output_type": "stream",
          "name": "stdout",
          "text": [
            "ANN model predicted  dog.\n",
            "CNN model predicted  cat.\n",
            "The actual picture is: \n",
            "cat\n"
          ]
        },
        {
          "output_type": "display_data",
          "data": {
            "text/plain": [
              "<Figure size 100x100 with 1 Axes>"
            ],
            "image/png": "[encoded data removed]"
          },
          "metadata": {}
        }
      ],
      "source": [
        "check_prediction_accuracy(46)"
      ]
    },
    {
      "cell_type": "code",
      "source": [
        "print('That\\'s all for this project!! Thank you for joining me on this journey.\\nBy Bokang Gopane.')"
      ],
      "metadata": {
        "colab": {
          "base_uri": "https://localhost:8080/"
        },
        "id": "zPa8UW5eTIsg",
        "outputId": "eecc47e3-162a-4651-d4d5-2e328f9c29bc"
      },
      "execution_count": 89,
      "outputs": [
        {
          "metadata": {
            "tags": null
          },
          "name": "stdout",
          "output_type": "stream",
          "text": [
            "That's all for this project!! Thank you for joining me on this journey.\n",
            "By Bokang Gopane.\n"
          ]
        }
      ]
    },
    {
      "cell_type": "code",
      "source": [],
      "metadata": {
        "id": "KktMaVMcXePV"
      },
      "execution_count": null,
      "outputs": []
    },
    {
      "cell_type": "markdown",
      "source": [
        "<!-- Dataset Citation -->\n",
        "The CIFAR-10 dataset was collected by Alex Krizhevsky, Vinod Nair, and Geoffrey Hinton as described in their technical report:\n",
        "\n",
        "Krizhevsky, A., Nair, V., & Hinton, G. (2009). Learning Multiple Layers of Features from Tiny Images. Technical Report, Department of Computer Science, University of Toronto. Retrieved from http://www.cs.toronto.edu/~kriz/cifar.html\n"
      ],
      "metadata": {
        "id": "Ux3ppOzBU6CJ"
      }
    }
  ],
  "metadata": {
    "colab": {
      "provenance": []
    },
    "kernelspec": {
      "display_name": "Python 3",
      "name": "python3"
    },
    "language_info": {
      "name": "python"
    }
  },
  "nbformat": 4,
  "nbformat_minor": 0
}